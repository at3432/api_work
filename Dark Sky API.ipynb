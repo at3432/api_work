{
 "cells": [
  {
   "cell_type": "code",
   "execution_count": 26,
   "metadata": {},
   "outputs": [
    {
     "data": {
      "text/plain": [
       "'{\"latitude\":30,\"longitude\":-18,\"timezone\":\"Atlantic/Madeira\",\"currently\":{\"time\":1559838006,\"summary\":\"Clear\",\"icon\":\"clear-day\",\"precipIntensity\":0.0002,\"precipProbability\":0.01,\"precipType\":\"rain\",\"temperature\":69.65,\"apparentTemperature\":69.65,\"dewPoint\":56.31,\"humidity\":0.63,\"pressure\":1020.06,\"windSpeed\":12.68,\"windGust\":13.92,\"windBearing\":14,\"cloudCover\":0.06,\"uvIndex\":5,\"visibility\":10,\"ozone\":314.66},\"hourly\":{\"summary\":\"Partly cloudy starting tonight, continuing until tomorrow afternoon.\",\"icon\":\"partly-cloudy-night\",\"data\":[{\"time\":1559836800,\"summary\":\"Clear\",\"icon\":\"clear-day\",\"precipIntensity\":0.0002,\"precipProbability\":0.01,\"precipType\":\"rain\",\"temperature\":69.62,\"apparentTemperature\":69.62,\"dewPoint\":56.2,\"humidity\":0.62,\"pressure\":1020.13,\"windSpeed\":12.55,\"windGust\":13.79,\"windBearing\":15,\"cloudCover\":0.06,\"uvIndex\":6,\"visibility\":10,\"ozone\":314.69},{\"time\":1559840400,\"summary\":\"Clear\",\"icon\":\"clear-day\",\"precipIntensity\":0,\"precipProbability\":0,\"temperature\":69.72,\"apparentTemperature\":69.72,\"dewPoint\":56.53,\"humidity\":0.63,\"pressure\":1019.93,\"windSpeed\":12.94,\"windGust\":14.19,\"windBearing\":12,\"cloudCover\":0.06,\"uvIndex\":4,\"visibility\":10,\"ozone\":314.59},{\"time\":1559844000,\"summary\":\"Clear\",\"icon\":\"clear-day\",\"precipIntensity\":0,\"precipProbability\":0,\"temperature\":69.68,\"apparentTemperature\":69.68,\"dewPoint\":56.87,\"humidity\":0.64,\"pressure\":1019.89,\"windSpeed\":13.33,\"windGust\":14.62,\"windBearing\":9,\"cloudCover\":0.06,\"uvIndex\":2,\"visibility\":10,\"ozone\":314.69},{\"time\":1559847600,\"summary\":\"Clear\",\"icon\":\"clear-day\",\"precipIntensity\":0,\"precipProbability\":0,\"temperature\":69.41,\"apparentTemperature\":69.41,\"dewPoint\":57.13,\"humidity\":0.65,\"pressure\":1020.09,\"windSpeed\":13.82,\"windGust\":15.12,\"windBearing\":8,\"cloudCover\":0.03,\"uvIndex\":0,\"visibility\":10,\"ozone\":314.8},{\"time\":1559851200,\"summary\":\"Clear\",\"icon\":\"clear-day\",\"precipIntensity\":0,\"precipProbability\":0,\"temperature\":69.03,\"apparentTemperature\":69.03,\"dewPoint\":57.39,\"humidity\":0.66,\"pressure\":1020.41,\"windSpeed\":14.28,\"windGust\":15.62,\"windBearing\":6,\"cloudCover\":0,\"uvIndex\":0,\"visibility\":10,\"ozone\":315.11},{\"time\":1559854800,\"summary\":\"Clear\",\"icon\":\"clear-night\",\"precipIntensity\":0,\"precipProbability\":0,\"temperature\":68.66,\"apparentTemperature\":68.66,\"dewPoint\":57.59,\"humidity\":0.68,\"pressure\":1020.7,\"windSpeed\":14.5,\"windGust\":15.91,\"windBearing\":6,\"cloudCover\":0.02,\"uvIndex\":0,\"visibility\":10,\"ozone\":315.32},{\"time\":1559858400,\"summary\":\"Clear\",\"icon\":\"clear-night\",\"precipIntensity\":0,\"precipProbability\":0,\"temperature\":68.48,\"apparentTemperature\":68.48,\"dewPoint\":57.69,\"humidity\":0.68,\"pressure\":1020.95,\"windSpeed\":14.28,\"windGust\":15.72,\"windBearing\":7,\"cloudCover\":0.12,\"uvIndex\":0,\"visibility\":10,\"ozone\":315.53},{\"time\":1559862000,\"summary\":\"Partly Cloudy\",\"icon\":\"partly-cloudy-night\",\"precipIntensity\":0.0002,\"precipProbability\":0.01,\"precipType\":\"rain\",\"temperature\":68.37,\"apparentTemperature\":68.37,\"dewPoint\":57.77,\"humidity\":0.69,\"pressure\":1021.16,\"windSpeed\":13.82,\"windGust\":15.31,\"windBearing\":8,\"cloudCover\":0.26,\"uvIndex\":0,\"visibility\":10,\"ozone\":315.64},{\"time\":1559865600,\"summary\":\"Partly Cloudy\",\"icon\":\"partly-cloudy-night\",\"precipIntensity\":0.0003,\"precipProbability\":0.01,\"precipType\":\"rain\",\"temperature\":68.27,\"apparentTemperature\":68.27,\"dewPoint\":57.93,\"humidity\":0.7,\"pressure\":1021.16,\"windSpeed\":13.3,\"windGust\":14.81,\"windBearing\":9,\"cloudCover\":0.36,\"uvIndex\":0,\"visibility\":10,\"ozone\":315.74},{\"time\":1559869200,\"summary\":\"Partly Cloudy\",\"icon\":\"partly-cloudy-night\",\"precipIntensity\":0.0002,\"precipProbability\":0.01,\"precipType\":\"rain\",\"temperature\":68.09,\"apparentTemperature\":68.09,\"dewPoint\":58.24,\"humidity\":0.71,\"pressure\":1020.78,\"windSpeed\":12.82,\"windGust\":14.16,\"windBearing\":9,\"cloudCover\":0.36,\"uvIndex\":0,\"visibility\":10,\"ozone\":315.74},{\"time\":1559872800,\"summary\":\"Partly Cloudy\",\"icon\":\"partly-cloudy-night\",\"precipIntensity\":0,\"precipProbability\":0,\"temperature\":68.08,\"apparentTemperature\":68.08,\"dewPoint\":58.63,\"humidity\":0.72,\"pressure\":1020.21,\"windSpeed\":12.34,\"windGust\":13.49,\"windBearing\":9,\"cloudCover\":0.31,\"uvIndex\":0,\"visibility\":10,\"ozone\":315.74},{\"time\":1559876400,\"summary\":\"Partly Cloudy\",\"icon\":\"partly-cloudy-night\",\"precipIntensity\":0,\"precipProbability\":0,\"temperature\":68.12,\"apparentTemperature\":68.12,\"dewPoint\":59.08,\"humidity\":0.73,\"pressure\":1019.73,\"windSpeed\":11.98,\"windGust\":13.03,\"windBearing\":9,\"cloudCover\":0.28,\"uvIndex\":0,\"visibility\":10,\"ozone\":315.85},{\"time\":1559880000,\"summary\":\"Partly Cloudy\",\"icon\":\"partly-cloudy-night\",\"precipIntensity\":0,\"precipProbability\":0,\"temperature\":68.29,\"apparentTemperature\":68.29,\"dewPoint\":59.62,\"humidity\":0.74,\"pressure\":1019.53,\"windSpeed\":11.98,\"windGust\":13.21,\"windBearing\":9,\"cloudCover\":0.29,\"uvIndex\":0,\"visibility\":10,\"ozone\":316.58},{\"time\":1559883600,\"summary\":\"Partly Cloudy\",\"icon\":\"partly-cloudy-night\",\"precipIntensity\":0.0003,\"precipProbability\":0.01,\"precipType\":\"rain\",\"temperature\":68.5,\"apparentTemperature\":68.57,\"dewPoint\":60.21,\"humidity\":0.75,\"pressure\":1019.42,\"windSpeed\":12.13,\"windGust\":13.67,\"windBearing\":9,\"cloudCover\":0.31,\"uvIndex\":0,\"visibility\":10,\"ozone\":317.42},{\"time\":1559887200,\"summary\":\"Partly Cloudy\",\"icon\":\"partly-cloudy-night\",\"precipIntensity\":0.0006,\"precipProbability\":0.02,\"precipType\":\"rain\",\"temperature\":68.68,\"apparentTemperature\":68.81,\"dewPoint\":60.7,\"humidity\":0.76,\"pressure\":1019.46,\"windSpeed\":11.95,\"windGust\":13.64,\"windBearing\":10,\"cloudCover\":0.38,\"uvIndex\":0,\"visibility\":10,\"ozone\":317.94},{\"time\":1559890800,\"summary\":\"Partly Cloudy\",\"icon\":\"partly-cloudy-day\",\"precipIntensity\":0.0008,\"precipProbability\":0.02,\"precipType\":\"rain\",\"temperature\":69,\"apparentTemperature\":69.16,\"dewPoint\":60.97,\"humidity\":0.76,\"pressure\":1019.65,\"windSpeed\":11.28,\"windGust\":12.73,\"windBearing\":15,\"cloudCover\":0.53,\"uvIndex\":0,\"visibility\":10,\"ozone\":317.94},{\"time\":1559894400,\"summary\":\"Mostly Cloudy\",\"icon\":\"partly-cloudy-day\",\"precipIntensity\":0.0009,\"precipProbability\":0.02,\"precipType\":\"rain\",\"temperature\":69.47,\"apparentTemperature\":69.64,\"dewPoint\":61.14,\"humidity\":0.75,\"pressure\":1020.01,\"windSpeed\":10.26,\"windGust\":11.37,\"windBearing\":19,\"cloudCover\":0.72,\"uvIndex\":1,\"visibility\":10,\"ozone\":317.52},{\"time\":1559898000,\"summary\":\"Mostly Cloudy\",\"icon\":\"partly-cloudy-day\",\"precipIntensity\":0.0008,\"precipProbability\":0.02,\"precipType\":\"rain\",\"temperature\":70.08,\"apparentTemperature\":70.25,\"dewPoint\":61.32,\"humidity\":0.74,\"pressure\":1020.29,\"windSpeed\":9.27,\"windGust\":10.06,\"windBearing\":22,\"cloudCover\":0.82,\"uvIndex\":2,\"visibility\":10,\"ozone\":316.58},{\"time\":1559901600,\"summary\":\"Mostly Cloudy\",\"icon\":\"partly-cloudy-day\",\"precipIntensity\":0.0004,\"precipProbability\":0.02,\"precipType\":\"rain\",\"temperature\":70.58,\"apparentTemperature\":70.78,\"dewPoint\":61.56,\"humidity\":0.73,\"pressure\":1020.58,\"windSpeed\":8.27,\"windGust\":8.96,\"windBearing\":22,\"cloudCover\":0.75,\"uvIndex\":4,\"visibility\":10,\"ozone\":315.01},{\"time\":1559905200,\"summary\":\"Partly Cloudy\",\"icon\":\"partly-cloudy-day\",\"precipIntensity\":0,\"precipProbability\":0,\"temperature\":70.98,\"apparentTemperature\":71.2,\"dewPoint\":61.85,\"humidity\":0.73,\"pressure\":1020.82,\"windSpeed\":7.26,\"windGust\":7.91,\"windBearing\":18,\"cloudCover\":0.59,\"uvIndex\":6,\"visibility\":10,\"ozone\":312.9},{\"time\":1559908800,\"summary\":\"Partly Cloudy\",\"icon\":\"partly-cloudy-day\",\"precipIntensity\":0,\"precipProbability\":0,\"temperature\":71.17,\"apparentTemperature\":71.42,\"dewPoint\":62.12,\"humidity\":0.73,\"pressure\":1020.95,\"windSpeed\":6.51,\"windGust\":7.17,\"windBearing\":13,\"cloudCover\":0.42,\"uvIndex\":8,\"visibility\":10,\"ozone\":311.11},{\"time\":1559912400,\"summary\":\"Partly Cloudy\",\"icon\":\"partly-cloudy-day\",\"precipIntensity\":0,\"precipProbability\":0,\"temperature\":71.05,\"apparentTemperature\":71.33,\"dewPoint\":62.31,\"humidity\":0.74,\"pressure\":1020.91,\"windSpeed\":6.06,\"windGust\":6.8,\"windBearing\":6,\"cloudCover\":0.26,\"uvIndex\":9,\"visibility\":10,\"ozone\":309.62},{\"time\":1559916000,\"summary\":\"Clear\",\"icon\":\"clear-day\",\"precipIntensity\":0,\"precipProbability\":0,\"temperature\":71.22,\"apparentTemperature\":71.51,\"dewPoint\":62.43,\"humidity\":0.74,\"pressure\":1020.74,\"windSpeed\":5.87,\"windGust\":6.77,\"windBearing\":357,\"cloudCover\":0.11,\"uvIndex\":10,\"visibility\":10,\"ozone\":308.34},{\"time\":1559919600,\"summary\":\"Clear\",\"icon\":\"clear-day\",\"precipIntensity\":0,\"precipProbability\":0,\"temperature\":71.54,\"apparentTemperature\":71.87,\"dewPoint\":62.74,\"humidity\":0.74,\"pressure\":1020.58,\"windSpeed\":6.14,\"windGust\":7.17,\"windBearing\":351,\"cloudCover\":0,\"uvIndex\":9,\"visibility\":10,\"ozone\":307.48},{\"time\":1559923200,\"summary\":\"Clear\",\"icon\":\"clear-day\",\"precipIntensity\":0.0002,\"precipProbability\":0.02,\"precipType\":\"rain\",\"temperature\":71.73,\"apparentTemperature\":72.12,\"dewPoint\":63.35,\"humidity\":0.75,\"pressure\":1020.41,\"windSpeed\":7.01,\"windGust\":7.96,\"windBearing\":351,\"cloudCover\":0,\"uvIndex\":6,\"visibility\":10,\"ozone\":307.27},{\"time\":1559926800,\"summary\":\"Clear\",\"icon\":\"clear-day\",\"precipIntensity\":0.0011,\"precipProbability\":0.03,\"precipType\":\"rain\",\"temperature\":71.65,\"apparentTemperature\":72.14,\"dewPoint\":64.1,\"humidity\":0.77,\"pressure\":1020.21,\"windSpeed\":8.32,\"windGust\":9.18,\"windBearing\":356,\"cloudCover\":0,\"uvIndex\":4,\"visibility\":10,\"ozone\":307.48},{\"time\":1559930400,\"summary\":\"Clear\",\"icon\":\"clear-day\",\"precipIntensity\":0.0022,\"precipProbability\":0.05,\"precipType\":\"rain\",\"temperature\":71.43,\"apparentTemperature\":72,\"dewPoint\":64.67,\"humidity\":0.79,\"pressure\":1020.17,\"windSpeed\":9.86,\"windGust\":11.01,\"windBearing\":3,\"cloudCover\":0.02,\"uvIndex\":2,\"visibility\":10,\"ozone\":307.69},{\"time\":1559934000,\"summary\":\"Clear\",\"icon\":\"clear-day\",\"precipIntensity\":0.0023,\"precipProbability\":0.05,\"precipType\":\"rain\",\"temperature\":71.01,\"apparentTemperature\":71.63,\"dewPoint\":64.93,\"humidity\":0.81,\"pressure\":1020.37,\"windSpeed\":11.81,\"windGust\":14.19,\"windBearing\":18,\"cloudCover\":0.06,\"uvIndex\":0,\"visibility\":10,\"ozone\":307.69},{\"time\":1559937600,\"summary\":\"Clear\",\"icon\":\"clear-day\",\"precipIntensity\":0.002,\"precipProbability\":0.04,\"precipType\":\"rain\",\"temperature\":70.14,\"apparentTemperature\":70.79,\"dewPoint\":64.98,\"humidity\":0.84,\"pressure\":1020.74,\"windSpeed\":14.13,\"windGust\":18,\"windBearing\":35,\"cloudCover\":0.12,\"uvIndex\":0,\"visibility\":10,\"ozone\":307.69},{\"time\":1559941200,\"summary\":\"Clear\",\"icon\":\"clear-night\",\"precipIntensity\":0.0016,\"precipProbability\":0.04,\"precipType\":\"rain\",\"temperature\":69.39,\"apparentTemperature\":70.06,\"dewPoint\":64.91,\"humidity\":0.86,\"pressure\":1021.12,\"windSpeed\":16.1,\"windGust\":20.59,\"windBearing\":45,\"cloudCover\":0.16,\"uvIndex\":0,\"visibility\":10,\"ozone\":307.37},{\"time\":1559944800,\"summary\":\"Clear\",\"icon\":\"clear-night\",\"precipIntensity\":0.0014,\"precipProbability\":0.04,\"precipType\":\"rain\",\"temperature\":68.87,\"apparentTemperature\":69.52,\"dewPoint\":64.64,\"humidity\":0.86,\"pressure\":1021.58,\"windSpeed\":17.12,\"windGust\":20.97,\"windBearing\":51,\"cloudCover\":0.17,\"uvIndex\":0,\"visibility\":10,\"ozone\":306.84},{\"time\":1559948400,\"summary\":\"Clear\",\"icon\":\"clear-night\",\"precipIntensity\":0.0018,\"precipProbability\":0.04,\"precipType\":\"rain\",\"temperature\":68.38,\"apparentTemperature\":68.99,\"dewPoint\":64.25,\"humidity\":0.87,\"pressure\":1022.05,\"windSpeed\":17.54,\"windGust\":20.12,\"windBearing\":53,\"cloudCover\":0.16,\"uvIndex\":0,\"visibility\":10,\"ozone\":305.87},{\"time\":1559952000,\"summary\":\"Clear\",\"icon\":\"clear-night\",\"precipIntensity\":0.0022,\"precipProbability\":0.04,\"precipType\":\"rain\",\"temperature\":68.04,\"apparentTemperature\":68.6,\"dewPoint\":63.79,\"humidity\":0.86,\"pressure\":1022.26,\"windSpeed\":17.74,\"windGust\":19.25,\"windBearing\":53,\"cloudCover\":0.14,\"uvIndex\":0,\"visibility\":10,\"ozone\":305.11},{\"time\":1559955600,\"summary\":\"Clear\",\"icon\":\"clear-night\",\"precipIntensity\":0.0015,\"precipProbability\":0.04,\"precipType\":\"rain\",\"temperature\":67.79,\"apparentTemperature\":68.29,\"dewPoint\":63.3,\"humidity\":0.86,\"pressure\":1022.09,\"windSpeed\":17.87,\"windGust\":18.82,\"windBearing\":51,\"cloudCover\":0.11,\"uvIndex\":0,\"visibility\":10,\"ozone\":304.46},{\"time\":1559959200,\"summary\":\"Clear\",\"icon\":\"clear-night\",\"precipIntensity\":0.0009,\"precipProbability\":0.04,\"precipType\":\"rain\",\"temperature\":67.61,\"apparentTemperature\":68.04,\"dewPoint\":62.76,\"humidity\":0.84,\"pressure\":1021.71,\"windSpeed\":17.87,\"windGust\":18.39,\"windBearing\":50,\"cloudCover\":0.07,\"uvIndex\":0,\"visibility\":10,\"ozone\":304.03},{\"time\":1559962800,\"summary\":\"Clear\",\"icon\":\"clear-night\",\"precipIntensity\":0.0008,\"precipProbability\":0.04,\"precipType\":\"rain\",\"temperature\":67.51,\"apparentTemperature\":67.87,\"dewPoint\":62.17,\"humidity\":0.83,\"pressure\":1021.41,\"windSpeed\":17.7,\"windGust\":17.9,\"windBearing\":48,\"cloudCover\":0.04,\"uvIndex\":0,\"visibility\":10,\"ozone\":303.6},{\"time\":1559966400,\"summary\":\"Clear\",\"icon\":\"clear-night\",\"precipIntensity\":0.0004,\"precipProbability\":0.03,\"precipType\":\"rain\",\"temperature\":67.64,\"apparentTemperature\":67.89,\"dewPoint\":61.45,\"humidity\":0.81,\"pressure\":1021.28,\"windSpeed\":17.25,\"windGust\":17.31,\"windBearing\":47,\"cloudCover\":0.03,\"uvIndex\":0,\"visibility\":10,\"ozone\":303.27},{\"time\":1559970000,\"summary\":\"Clear\",\"icon\":\"clear-night\",\"precipIntensity\":0,\"precipProbability\":0,\"temperature\":67.88,\"apparentTemperature\":68.03,\"dewPoint\":60.72,\"humidity\":0.78,\"pressure\":1021.24,\"windSpeed\":16.57,\"windGust\":16.67,\"windBearing\":45,\"cloudCover\":0.03,\"uvIndex\":0,\"visibility\":10,\"ozone\":303.16},{\"time\":1559973600,\"summary\":\"Clear\",\"icon\":\"clear-night\",\"precipIntensity\":0,\"precipProbability\":0,\"temperature\":68.3,\"apparentTemperature\":68.36,\"dewPoint\":60.05,\"humidity\":0.75,\"pressure\":1021.37,\"windSpeed\":16.06,\"windGust\":16.35,\"windBearing\":44,\"cloudCover\":0.03,\"uvIndex\":0,\"visibility\":10,\"ozone\":303.71},{\"time\":1559977200,\"summary\":\"Clear\",\"icon\":\"clear-day\",\"precipIntensity\":0,\"precipProbability\":0,\"temperature\":68.75,\"apparentTemperature\":68.75,\"dewPoint\":59.58,\"humidity\":0.73,\"pressure\":1021.79,\"windSpeed\":15.97,\"windGust\":16.64,\"windBearing\":45,\"cloudCover\":0.02,\"uvIndex\":0,\"visibility\":10,\"ozone\":305.11},{\"time\":1559980800,\"summary\":\"Clear\",\"icon\":\"clear-day\",\"precipIntensity\":0,\"precipProbability\":0,\"temperature\":69.16,\"apparentTemperature\":69.16,\"dewPoint\":59.23,\"humidity\":0.71,\"pressure\":1022.35,\"windSpeed\":16.06,\"windGust\":17.22,\"windBearing\":47,\"cloudCover\":0.02,\"uvIndex\":1,\"visibility\":10,\"ozone\":307.05},{\"time\":1559984400,\"summary\":\"Clear\",\"icon\":\"clear-day\",\"precipIntensity\":0.0002,\"precipProbability\":0.02,\"precipType\":\"rain\",\"temperature\":69.48,\"apparentTemperature\":69.48,\"dewPoint\":58.96,\"humidity\":0.69,\"pressure\":1022.88,\"windSpeed\":16.16,\"windGust\":17.51,\"windBearing\":48,\"cloudCover\":0.04,\"uvIndex\":3,\"visibility\":10,\"ozone\":309.08},{\"time\":1559988000,\"summary\":\"Clear\",\"icon\":\"clear-day\",\"precipIntensity\":0.0003,\"precipProbability\":0.02,\"precipType\":\"rain\",\"temperature\":69.66,\"apparentTemperature\":69.66,\"dewPoint\":58.78,\"humidity\":0.68,\"pressure\":1023.33,\"windSpeed\":16.22,\"windGust\":17.22,\"windBearing\":48,\"cloudCover\":0.11,\"uvIndex\":5,\"visibility\":10,\"ozone\":311.32},{\"time\":1559991600,\"summary\":\"Clear\",\"icon\":\"clear-day\",\"precipIntensity\":0.0003,\"precipProbability\":0.02,\"precipType\":\"rain\",\"temperature\":69.86,\"apparentTemperature\":69.86,\"dewPoint\":58.71,\"humidity\":0.68,\"pressure\":1023.73,\"windSpeed\":16.32,\"windGust\":16.61,\"windBearing\":48,\"cloudCover\":0.2,\"uvIndex\":7,\"visibility\":10,\"ozone\":313.54},{\"time\":1559995200,\"summary\":\"Partly Cloudy\",\"icon\":\"partly-cloudy-day\",\"precipIntensity\":0.0003,\"precipProbability\":0.02,\"precipType\":\"rain\",\"temperature\":69.82,\"apparentTemperature\":69.82,\"dewPoint\":58.66,\"humidity\":0.68,\"pressure\":1023.96,\"windSpeed\":16.41,\"windGust\":16.41,\"windBearing\":48,\"cloudCover\":0.26,\"uvIndex\":8,\"visibility\":10,\"ozone\":315.11},{\"time\":1559998800,\"summary\":\"Clear\",\"icon\":\"clear-day\",\"precipIntensity\":0,\"precipProbability\":0,\"temperature\":69.43,\"apparentTemperature\":69.43,\"dewPoint\":58.6,\"humidity\":0.68,\"pressure\":1023.92,\"windSpeed\":16.41,\"windGust\":16.41,\"windBearing\":48,\"cloudCover\":0.24,\"uvIndex\":9,\"visibility\":10,\"ozone\":315.74},{\"time\":1560002400,\"summary\":\"Clear\",\"icon\":\"clear-day\",\"precipIntensity\":0,\"precipProbability\":0,\"temperature\":69.41,\"apparentTemperature\":69.41,\"dewPoint\":58.54,\"humidity\":0.68,\"pressure\":1023.73,\"windSpeed\":16.45,\"windGust\":16.45,\"windBearing\":47,\"cloudCover\":0.18,\"uvIndex\":9,\"visibility\":10,\"ozone\":315.64},{\"time\":1560006000,\"summary\":\"Clear\",\"icon\":\"clear-day\",\"precipIntensity\":0,\"precipProbability\":0,\"temperature\":69.49,\"apparentTemperature\":69.49,\"dewPoint\":58.52,\"humidity\":0.68,\"pressure\":1023.55,\"windSpeed\":16.41,\"windGust\":16.41,\"windBearing\":47,\"cloudCover\":0.13,\"uvIndex\":8,\"visibility\":10,\"ozone\":315.43},{\"time\":1560009600,\"summary\":\"Clear\",\"icon\":\"clear-day\",\"precipIntensity\":0,\"precipProbability\":0,\"temperature\":69.69,\"apparentTemperature\":69.69,\"dewPoint\":58.55,\"humidity\":0.68,\"pressure\":1023.37,\"windSpeed\":16.32,\"windGust\":16.32,\"windBearing\":45,\"cloudCover\":0.11,\"uvIndex\":6,\"visibility\":10,\"ozone\":314.9}]},\"daily\":{\"summary\":\"No precipitation throughout the week, with high temperatures rising to 72°F tomorrow.\",\"icon\":\"clear-day\",\"data\":[{\"time\":1559775600,\"summary\":\"Partly cloudy until afternoon.\",\"icon\":\"partly-cloudy-day\",\"sunriseTime\":1559801525,\"sunsetTime\":1559851932,\"moonPhase\":0.11,\"precipIntensity\":0.0003,\"precipIntensityMax\":0.001,\"precipIntensityMaxTime\":1559815200,\"precipProbability\":0.09,\"precipType\":\"rain\",\"temperatureHigh\":69.72,\"temperatureHighTime\":1559840400,\"temperatureLow\":68.08,\"temperatureLowTime\":1559872800,\"apparentTemperatureHigh\":69.72,\"apparentTemperatureHighTime\":1559840400,\"apparentTemperatureLow\":68.08,\"apparentTemperatureLowTime\":1559872800,\"dewPoint\":56.57,\"humidity\":0.66,\"pressure\":1020.33,\"windSpeed\":13.33,\"windGust\":16.48,\"windGustTime\":1559775600,\"windBearing\":28,\"cloudCover\":0.24,\"uvIndex\":8,\"uvIndexTime\":1559829600,\"visibility\":10,\"ozone\":321.05,\"temperatureMin\":66.39,\"temperatureMinTime\":1559797200,\"temperatureMax\":69.72,\"temperatureMaxTime\":1559840400,\"apparentTemperatureMin\":66.39,\"apparentTemperatureMinTime\":1559797200,\"apparentTemperatureMax\":69.72,\"apparentTemperatureMaxTime\":1559840400},{\"time\":1559862000,\"summary\":\"Partly cloudy until afternoon.\",\"icon\":\"partly-cloudy-day\",\"sunriseTime\":1559887919,\"sunsetTime\":1559938360,\"moonPhase\":0.14,\"precipIntensity\":0.0007,\"precipIntensityMax\":0.0023,\"precipIntensityMaxTime\":1559934000,\"precipProbability\":0.08,\"precipType\":\"rain\",\"temperatureHigh\":71.73,\"temperatureHighTime\":1559923200,\"temperatureLow\":67.51,\"temperatureLowTime\":1559962800,\"apparentTemperatureHigh\":72.14,\"apparentTemperatureHighTime\":1559926800,\"apparentTemperatureLow\":67.87,\"apparentTemperatureLowTime\":1559962800,\"dewPoint\":61.67,\"humidity\":0.75,\"pressure\":1020.44,\"windSpeed\":10.27,\"windGust\":20.97,\"windGustTime\":1559944800,\"windBearing\":16,\"cloudCover\":0.3,\"uvIndex\":10,\"uvIndexTime\":1559916000,\"visibility\":10,\"ozone\":312.47,\"temperatureMin\":68.08,\"temperatureMinTime\":1559872800,\"temperatureMax\":71.73,\"temperatureMaxTime\":1559923200,\"apparentTemperatureMin\":68.08,\"apparentTemperatureMinTime\":1559872800,\"apparentTemperatureMax\":72.14,\"apparentTemperatureMaxTime\":1559926800},{\"time\":1559948400,\"summary\":\"Clear throughout the day.\",\"icon\":\"clear-day\",\"sunriseTime\":1559974314,\"sunsetTime\":1560024786,\"moonPhase\":0.18,\"precipIntensity\":0.0004,\"precipIntensityMax\":0.0022,\"precipIntensityMaxTime\":1559952000,\"precipProbability\":0.09,\"precipType\":\"rain\",\"temperatureHigh\":70.31,\"temperatureHighTime\":1560016800,\"temperatureLow\":67.74,\"temperatureLowTime\":1560049200,\"apparentTemperatureHigh\":70.31,\"apparentTemperatureHighTime\":1560016800,\"apparentTemperatureLow\":67.74,\"apparentTemperatureLowTime\":1560049200,\"dewPoint\":60,\"humidity\":0.73,\"pressure\":1022.87,\"windSpeed\":16.84,\"windGust\":20.12,\"windGustTime\":1559948400,\"windBearing\":46,\"cloudCover\":0.09,\"uvIndex\":9,\"uvIndexTime\":1559998800,\"visibility\":10,\"ozone\":310.33,\"temperatureMin\":67.51,\"temperatureMinTime\":1559962800,\"temperatureMax\":70.31,\"temperatureMaxTime\":1560016800,\"apparentTemperatureMin\":67.87,\"apparentTemperatureMinTime\":1559962800,\"apparentTemperatureMax\":70.31,\"apparentTemperatureMaxTime\":1560016800},{\"time\":1560034800,\"summary\":\"Mostly cloudy until evening.\",\"icon\":\"partly-cloudy-day\",\"sunriseTime\":1560060710,\"sunsetTime\":1560111212,\"moonPhase\":0.22,\"precipIntensity\":0.0004,\"precipIntensityMax\":0.0009,\"precipIntensityMaxTime\":1560060000,\"precipProbability\":0.05,\"precipType\":\"rain\",\"temperatureHigh\":70.17,\"temperatureHighTime\":1560103200,\"temperatureLow\":68.78,\"temperatureLowTime\":1560128400,\"apparentTemperatureHigh\":70.17,\"apparentTemperatureHighTime\":1560103200,\"apparentTemperatureLow\":68.92,\"apparentTemperatureLowTime\":1560128400,\"dewPoint\":58.71,\"humidity\":0.7,\"pressure\":1024.53,\"windSpeed\":17.99,\"windGust\":21.96,\"windGustTime\":1560114000,\"windBearing\":44,\"cloudCover\":0.46,\"uvIndex\":5,\"uvIndexTime\":1560081600,\"visibility\":10,\"ozone\":312.6,\"temperatureMin\":67.74,\"temperatureMinTime\":1560049200,\"temperatureMax\":70.36,\"temperatureMaxTime\":1560106800,\"apparentTemperatureMin\":67.74,\"apparentTemperatureMinTime\":1560049200,\"apparentTemperatureMax\":70.39,\"apparentTemperatureMaxTime\":1560106800},{\"time\":1560121200,\"summary\":\"Partly cloudy throughout the day.\",\"icon\":\"partly-cloudy-day\",\"sunriseTime\":1560147108,\"sunsetTime\":1560197637,\"moonPhase\":0.26,\"precipIntensity\":0.0005,\"precipIntensityMax\":0.0009,\"precipIntensityMaxTime\":1560178800,\"precipProbability\":0.06,\"precipType\":\"rain\",\"temperatureHigh\":70.69,\"temperatureHighTime\":1560189600,\"temperatureLow\":69.49,\"temperatureLowTime\":1560225600,\"apparentTemperatureHigh\":70.88,\"apparentTemperatureHighTime\":1560189600,\"apparentTemperatureLow\":69.66,\"apparentTemperatureLowTime\":1560225600,\"dewPoint\":61.52,\"humidity\":0.75,\"pressure\":1023.03,\"windSpeed\":18.67,\"windGust\":24.78,\"windGustTime\":1560204000,\"windBearing\":38,\"cloudCover\":0.34,\"uvIndex\":7,\"uvIndexTime\":1560171600,\"visibility\":10,\"ozone\":310.8,\"temperatureMin\":68.78,\"temperatureMinTime\":1560128400,\"temperatureMax\":71.29,\"temperatureMaxTime\":1560196800,\"apparentTemperatureMin\":68.92,\"apparentTemperatureMinTime\":1560128400,\"apparentTemperatureMax\":71.51,\"apparentTemperatureMaxTime\":1560196800},{\"time\":1560207600,\"summary\":\"Mostly cloudy throughout the day.\",\"icon\":\"partly-cloudy-day\",\"sunriseTime\":1560233507,\"sunsetTime\":1560284061,\"moonPhase\":0.3,\"precipIntensity\":0.0006,\"precipIntensityMax\":0.0009,\"precipIntensityMaxTime\":1560272400,\"precipProbability\":0.07,\"precipType\":\"rain\",\"temperatureHigh\":70.56,\"temperatureHighTime\":1560250800,\"temperatureLow\":69.29,\"temperatureLowTime\":1560301200,\"apparentTemperatureHigh\":70.69,\"apparentTemperatureHighTime\":1560250800,\"apparentTemperatureLow\":69.45,\"apparentTemperatureLowTime\":1560301200,\"dewPoint\":61.1,\"humidity\":0.73,\"pressure\":1019.35,\"windSpeed\":20.14,\"windGust\":24.78,\"windGustTime\":1560207600,\"windBearing\":38,\"cloudCover\":0.65,\"uvIndex\":5,\"uvIndexTime\":1560250800,\"visibility\":10,\"ozone\":302.17,\"temperatureMin\":69.49,\"temperatureMinTime\":1560225600,\"temperatureMax\":70.84,\"temperatureMaxTime\":1560283200,\"apparentTemperatureMin\":69.66,\"apparentTemperatureMinTime\":1560225600,\"apparentTemperatureMax\":70.98,\"apparentTemperatureMaxTime\":1560283200},{\"time\":1560294000,\"summary\":\"Mostly cloudy throughout the day.\",\"icon\":\"partly-cloudy-day\",\"sunriseTime\":1560319907,\"sunsetTime\":1560370484,\"moonPhase\":0.33,\"precipIntensity\":0.0012,\"precipIntensityMax\":0.0017,\"precipIntensityMaxTime\":1560301200,\"precipProbability\":0.1,\"precipType\":\"rain\",\"temperatureHigh\":71.03,\"temperatureHighTime\":1560333600,\"temperatureLow\":68.99,\"temperatureLowTime\":1560398400,\"apparentTemperatureHigh\":71.21,\"apparentTemperatureHighTime\":1560362400,\"apparentTemperatureLow\":69.21,\"apparentTemperatureLowTime\":1560398400,\"dewPoint\":61.41,\"humidity\":0.73,\"pressure\":1015.53,\"windSpeed\":15.27,\"windGust\":21.93,\"windGustTime\":1560294000,\"windBearing\":22,\"cloudCover\":0.85,\"uvIndex\":5,\"uvIndexTime\":1560344400,\"visibility\":10,\"ozone\":310.59,\"temperatureMin\":69.29,\"temperatureMinTime\":1560301200,\"temperatureMax\":71.3,\"temperatureMaxTime\":1560369600,\"apparentTemperatureMin\":69.45,\"apparentTemperatureMinTime\":1560301200,\"apparentTemperatureMax\":71.55,\"apparentTemperatureMaxTime\":1560366000},{\"time\":1560380400,\"summary\":\"Mostly cloudy throughout the day.\",\"icon\":\"partly-cloudy-day\",\"sunriseTime\":1560406308,\"sunsetTime\":1560456907,\"moonPhase\":0.37,\"precipIntensity\":0.0008,\"precipIntensityMax\":0.0016,\"precipIntensityMaxTime\":1560427200,\"precipProbability\":0.09,\"precipType\":\"rain\",\"temperatureHigh\":70.57,\"temperatureHighTime\":1560448800,\"temperatureLow\":69.8,\"temperatureLowTime\":1560481200,\"apparentTemperatureHigh\":70.77,\"apparentTemperatureHighTime\":1560448800,\"apparentTemperatureLow\":69.94,\"apparentTemperatureLowTime\":1560481200,\"dewPoint\":61.47,\"humidity\":0.74,\"pressure\":1013.81,\"windSpeed\":13.51,\"windGust\":19.15,\"windGustTime\":1560387600,\"windBearing\":359,\"cloudCover\":0.91,\"uvIndex\":5,\"uvIndexTime\":1560430800,\"visibility\":10,\"ozone\":317.6,\"temperatureMin\":68.99,\"temperatureMinTime\":1560398400,\"temperatureMax\":71.04,\"temperatureMaxTime\":1560452400,\"apparentTemperatureMin\":69.21,\"apparentTemperatureMinTime\":1560398400,\"apparentTemperatureMax\":71.22,\"apparentTemperatureMaxTime\":1560452400}]},\"flags\":{\"sources\":[\"meteoalarm\",\"cmc\",\"gfs\",\"icon\",\"isd\",\"madis\"],\"meteoalarm-license\":\"Based on data from EUMETNET - MeteoAlarm [https://www.meteoalarm.eu/]. Time delays between this website and the MeteoAlarm website are possible; for the most up to date information about alert levels as published by the participating National Meteorological Services please use the MeteoAlarm website.\",\"units\":\"us\"},\"offset\":1}'"
      ]
     },
     "execution_count": 26,
     "metadata": {},
     "output_type": "execute_result"
    }
   ],
   "source": [
    "response.text"
   ]
  },
  {
   "cell_type": "code",
   "execution_count": 1,
   "metadata": {},
   "outputs": [],
   "source": [
    "# using the URL on darksky print out the current temperature"
   ]
  },
  {
   "cell_type": "code",
   "execution_count": 25,
   "metadata": {},
   "outputs": [
    {
     "data": {
      "text/plain": [
       "'66d76778322007e1016129f53584a572'"
      ]
     },
     "execution_count": 25,
     "metadata": {},
     "output_type": "execute_result"
    }
   ],
   "source": [
    "from dotenv import load_dotenv\n",
    "load_dotenv()\n",
    "import os\n",
    "\n",
    "SECRET_KEY = os.getenv(\"DARKSKY_API_KEY\")\n",
    "API_KEY"
   ]
  },
  {
   "cell_type": "code",
   "execution_count": 19,
   "metadata": {},
   "outputs": [
    {
     "name": "stdout",
     "output_type": "stream",
     "text": [
      "Collecting python-dotenv\n",
      "  Downloading https://files.pythonhosted.org/packages/57/c8/5b14d5cffe7bb06bedf9d66c4562bf90330d3d35e7f0266928c370d9dd6d/python_dotenv-0.10.3-py2.py3-none-any.whl\n",
      "Installing collected packages: python-dotenv\n",
      "Successfully installed python-dotenv-0.10.3\n",
      "\u001b[33mYou are using pip version 9.0.3, however version 19.1.1 is available.\n",
      "You should consider upgrading via the 'pip install --upgrade pip' command.\u001b[0m\n"
     ]
    }
   ],
   "source": [
    "!pip install python-dotenv"
   ]
  },
  {
   "cell_type": "code",
   "execution_count": 22,
   "metadata": {},
   "outputs": [],
   "source": [
    "import requests\n",
    "response = requests.get('https://api.darksky.net/forecast/66d76778322007e1016129f53584a572/37.8267,-122.4233')\n",
    "weather = response.json()\n",
    "weather.keys()\n",
    "API_KEY = '66d76778322007e1016129f53584a572'"
   ]
  },
  {
   "cell_type": "code",
   "execution_count": 5,
   "metadata": {},
   "outputs": [
    {
     "data": {
      "text/plain": [
       "{'time': 1559836592,\n",
       " 'summary': 'Partly Cloudy',\n",
       " 'icon': 'partly-cloudy-day',\n",
       " 'nearestStormDistance': 119,\n",
       " 'nearestStormBearing': 347,\n",
       " 'precipIntensity': 0,\n",
       " 'precipProbability': 0,\n",
       " 'temperature': 56.78,\n",
       " 'apparentTemperature': 56.78,\n",
       " 'dewPoint': 49.75,\n",
       " 'humidity': 0.77,\n",
       " 'pressure': 1014.81,\n",
       " 'windSpeed': 7.44,\n",
       " 'windGust': 14.24,\n",
       " 'windBearing': 269,\n",
       " 'cloudCover': 0.42,\n",
       " 'uvIndex': 2,\n",
       " 'visibility': 9.15,\n",
       " 'ozone': 321.37}"
      ]
     },
     "execution_count": 5,
     "metadata": {},
     "output_type": "execute_result"
    }
   ],
   "source": [
    "weather['currently']"
   ]
  },
  {
   "cell_type": "code",
   "execution_count": 10,
   "metadata": {},
   "outputs": [
    {
     "name": "stdout",
     "output_type": "stream",
     "text": [
      "56.78\n"
     ]
    }
   ],
   "source": [
    "print(weather['currently']['temperature'])"
   ]
  },
  {
   "cell_type": "code",
   "execution_count": 23,
   "metadata": {},
   "outputs": [
    {
     "data": {
      "text/plain": [
       "69.65"
      ]
     },
     "execution_count": 23,
     "metadata": {},
     "output_type": "execute_result"
    }
   ],
   "source": [
    "response = requests.get('https://api.darksky.net/forecast/66d76778322007e1016129f53584a572/30,-18')\n",
    "data = response.json()\n",
    "data['currently']['temperature']"
   ]
  },
  {
   "cell_type": "code",
   "execution_count": 24,
   "metadata": {},
   "outputs": [
    {
     "data": {
      "text/plain": [
       "69.65"
      ]
     },
     "execution_count": 24,
     "metadata": {},
     "output_type": "execute_result"
    }
   ],
   "source": [
    "# made an API KEY variable\n",
    "# to put in the URL use an f string \n",
    "response = requests.get(f'https://api.darksky.net/forecast/{API_KEY}/30,-18')\n",
    "data = response.json()\n",
    "data['currently']['temperature']"
   ]
  },
  {
   "cell_type": "code",
   "execution_count": 17,
   "metadata": {},
   "outputs": [
    {
     "name": "stdout",
     "output_type": "stream",
     "text": [
      "/bin/sh: touch.env: command not found\r\n"
     ]
    }
   ],
   "source": [
    "#when you do't know what folder you're in aand you want to make a new blank file \n",
    "!touch.env\n",
    "\n",
    "# pip install dotenv (cell 2)"
   ]
  },
  {
   "cell_type": "code",
   "execution_count": null,
   "metadata": {},
   "outputs": [],
   "source": [
    "# DON'T HAVE TO API KEY ANYWHERE BUT THE ENV\n",
    "\n",
    "#response.text if error"
   ]
  },
  {
   "cell_type": "code",
   "execution_count": 27,
   "metadata": {},
   "outputs": [],
   "source": [
    "!touch .super_secret_file"
   ]
  },
  {
   "cell_type": "code",
   "execution_count": null,
   "metadata": {},
   "outputs": [],
   "source": []
  }
 ],
 "metadata": {
  "kernelspec": {
   "display_name": "Python 3",
   "language": "python",
   "name": "python3"
  },
  "language_info": {
   "codemirror_mode": {
    "name": "ipython",
    "version": 3
   },
   "file_extension": ".py",
   "mimetype": "text/x-python",
   "name": "python",
   "nbconvert_exporter": "python",
   "pygments_lexer": "ipython3",
   "version": "3.6.5"
  }
 },
 "nbformat": 4,
 "nbformat_minor": 2
}
